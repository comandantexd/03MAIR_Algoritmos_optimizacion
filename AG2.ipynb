{
 "metadata": {
  "language_info": {
   "codemirror_mode": {
    "name": "ipython",
    "version": 3
   },
   "file_extension": ".py",
   "mimetype": "text/x-python",
   "name": "python",
   "nbconvert_exporter": "python",
   "pygments_lexer": "ipython3",
   "version": "3.8.3-final"
  },
  "orig_nbformat": 2,
  "kernelspec": {
   "name": "python3",
   "display_name": "Python 3",
   "language": "python"
  }
 },
 "nbformat": 4,
 "nbformat_minor": 2,
 "cells": [
  {
   "cell_type": "code",
   "execution_count": 1,
   "metadata": {},
   "outputs": [
    {
     "output_type": "stream",
     "name": "stdout",
     "text": [
      "\nRUTAS CODIFICADAS:\n[0, 0, 0, 0, 1, 2, 5]\n[1, 1, 1, 1, 1, 3, 4]\n[2, 2, 2, 2, 3, 2, 5]\n[3, 3, 3, 3, 3, 3, 3]\n[4, 4, 4, 4, 4, 4, 4]\n[5, 5, 5, 5, 5, 5, 5]\n[6, 6, 6, 6, 6, 6, 6]\n\nCOSTES DE RUTA CODIFICADO:\n[999, 5, 4, 3, 8, 8, 11]\n[999, 999, 999, 2, 3, 8, 7]\n[999, 999, 999, 1, 6, 4, 7]\n[999, 999, 999, 999, 5, 6, 9]\n[999, 999, 999, 999, 999, 999, 4]\n[999, 999, 999, 999, 999, 999, 3]\n[999, 999, 999, 999, 999, 999, 999]\n\nRuta para ir desde el nodo 0 al 6\n"
     ]
    },
    {
     "output_type": "execute_result",
     "data": {
      "text/plain": [
       "'0, 2, 5, 6'"
      ]
     },
     "metadata": {},
     "execution_count": 1
    }
   ],
   "source": [
    "import math\n",
    "\n",
    "cost_matrix = [\n",
    "    [999,   5, 4,   3,   999, 999, 999], #nodo 1\n",
    "    [999, 999, 999, 2,   3,   999, 11],  #nodo 2\n",
    "    [999, 999, 999, 1,   999, 4,   10],  #...\n",
    "    [999, 999, 999, 999, 5,   6,   9],\n",
    "    [999, 999, 999, 999, 999, 999, 4],\n",
    "    [999, 999, 999, 999, 999, 999, 3],\n",
    "    [999, 999, 999, 999, 999, 999, 999]\n",
    "]\n",
    "\n",
    "def best_route(cost_matrix):\n",
    "    l = len(cost_matrix)\n",
    "    routes = [ ['']*l for i in ['']*l ]\n",
    "    costs = [ [0]*l for i in [0]* l ]\n",
    "\n",
    "    for node in range(l): #nodo\n",
    "        for dest in range(l): #destino\n",
    "            m = cost_matrix[node][dest]\n",
    "            routes[node][dest] = node\n",
    "\n",
    "            for ndest in range(l):\n",
    "                if costs[node][ndest] + cost_matrix[ndest][dest] < m:\n",
    "                    m = costs[node][ndest] + cost_matrix[ndest][dest]\n",
    "                    routes[node][dest] = ndest\n",
    "\n",
    "                costs[node][dest] = m\n",
    "\n",
    "    return routes, costs\n",
    "\n",
    "\n",
    "def calc_route(routes, start, end):\n",
    "    if start == end:\n",
    "        return start\n",
    "    else:\n",
    "        return '%s, %s' % (calc_route(routes, start, routes[start][end]), end)\n",
    "\n",
    "\n",
    "routes, costs = best_route(cost_matrix)\n",
    "\n",
    "print('\\nRUTAS CODIFICADAS:')\n",
    "for i in routes:\n",
    "    print(i)\n",
    "\n",
    "print('\\nCOSTES DE RUTA CODIFICADO:')\n",
    "for i in costs:\n",
    "    print(i)\n",
    "\n",
    "print('\\nRuta para ir desde el nodo 0 al 6')\n",
    "calc_route(routes, 0, 6)"
   ]
  }
 ]
}