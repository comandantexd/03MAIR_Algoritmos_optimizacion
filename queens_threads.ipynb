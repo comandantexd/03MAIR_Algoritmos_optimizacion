{
 "metadata": {
  "language_info": {
   "codemirror_mode": {
    "name": "ipython",
    "version": 3
   },
   "file_extension": ".py",
   "mimetype": "text/x-python",
   "name": "python",
   "nbconvert_exporter": "python",
   "pygments_lexer": "ipython3",
   "version": "3.8.3-final"
  },
  "orig_nbformat": 2,
  "kernelspec": {
   "name": "python3",
   "display_name": "Python 3",
   "language": "python"
  }
 },
 "nbformat": 4,
 "nbformat_minor": 2,
 "cells": [
  {
   "cell_type": "code",
   "execution_count": 4,
   "metadata": {},
   "outputs": [
    {
     "output_type": "execute_result",
     "data": {
      "text/plain": [
       "[[4, 4, 4, 4], [4, 0, 0, 0], [0, 0, 0, 0], [0, 0, 0, 0]]"
      ]
     },
     "metadata": {},
     "execution_count": 4
    }
   ],
   "source": [
    "import threading\n",
    "\n",
    "def maybe(board, y, x):\n",
    "    for i in range(y):\n",
    "        if board[i].count(board[y][x]):\n",
    "            return False\n",
    "\n",
    "        for j in range(x):\n",
    "            if abs(i-j) == abs(board[i][j] - board[j][i]):\n",
    "                return False\n",
    "\n",
    "\n",
    "    return True\n",
    "\n",
    "def queens(n, board):\n",
    "    for y in range(len(board)): # y\n",
    "        for x in range(0, len(board[0])): # x\n",
    "            if maybe(board, y, x):\n",
    "                board[y][x] = n\n",
    "\n",
    "    return board\n",
    "\n",
    "\n",
    "\n",
    "board = [\n",
    "    [0, 0, 0, 0],\n",
    "    [0, 0, 0, 0],\n",
    "    [0, 0, 0, 0],\n",
    "    [0, 0, 0, 0]\n",
    "]\n",
    "queens(4, board)"
   ]
  }
 ]
}