{
 "metadata": {
  "language_info": {
   "codemirror_mode": {
    "name": "ipython",
    "version": 3
   },
   "file_extension": ".py",
   "mimetype": "text/x-python",
   "name": "python",
   "nbconvert_exporter": "python",
   "pygments_lexer": "ipython3",
   "version": "3.8.3-final"
  },
  "orig_nbformat": 2,
  "kernelspec": {
   "name": "python3",
   "display_name": "Python 3",
   "language": "python"
  }
 },
 "nbformat": 4,
 "nbformat_minor": 2,
 "cells": [
  {
   "cell_type": "code",
   "execution_count": 12,
   "metadata": {},
   "outputs": [
    {
     "output_type": "execute_result",
     "data": {
      "text/plain": [
       "[21212121, 0, 2, 0, 1]"
      ]
     },
     "metadata": {},
     "execution_count": 12
    }
   ],
   "source": [
    "def money_change(n, ms):\n",
    "    result = [0]*len(ms)\n",
    "    acum = 0\n",
    "\n",
    "    for i, val in enumerate(ms):\n",
    "        coins = (n - acum)//val\n",
    "        result[i] = coins\n",
    "        acum = acum + coins * val\n",
    "\n",
    "        if acum == n:\n",
    "            return result\n",
    "\n",
    "money_change(2121212121, [100, 25, 10, 5, 1])"
   ]
  }
 ]
}