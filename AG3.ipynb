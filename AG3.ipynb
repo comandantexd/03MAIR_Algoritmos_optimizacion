{
 "metadata": {
  "language_info": {
   "codemirror_mode": {
    "name": "ipython",
    "version": 3
   },
   "file_extension": ".py",
   "mimetype": "text/x-python",
   "name": "python",
   "nbconvert_exporter": "python",
   "pygments_lexer": "ipython3",
   "version": "3.8.3-final"
  },
  "orig_nbformat": 2,
  "kernelspec": {
   "name": "python3",
   "display_name": "Python 3",
   "language": "python"
  }
 },
 "nbformat": 4,
 "nbformat_minor": 2,
 "cells": [
  {
   "source": [
    "# Precarga, imports y variables"
   ],
   "cell_type": "markdown",
   "metadata": {}
  },
  {
   "cell_type": "code",
   "execution_count": 1,
   "metadata": {},
   "outputs": [],
   "source": [
    "import urllib\n",
    "import tsplib95\n",
    "import random\n",
    "import math\n",
    "import copy\n",
    "import numpy as np\n",
    "\n",
    "file = \"swiss42.tsp\" ; \n",
    "urllib.request.urlretrieve(\"http://elib.zib.de/pub/mp-testdata/tsp/tsplib/tsp/swiss42.tsp\", file) \n",
    "\n",
    "#Objeto problem\n",
    "problem = tsplib95.load(file)\n",
    "\n",
    "#Nodos\n",
    "nodes = list(problem.get_nodes())\n",
    "\n",
    "#Aristas\n",
    "edges = list(problem.get_edges())"
   ]
  },
  {
   "source": [
    "# Utilidades"
   ],
   "cell_type": "markdown",
   "metadata": {}
  },
  {
   "cell_type": "code",
   "execution_count": 2,
   "metadata": {},
   "outputs": [],
   "source": [
    "#Genera una colucion aleatoria con comienzo en el nodo 0\n",
    "def generate_solution(nodes): \n",
    "    sol = [nodes[0]]\n",
    "    for n in nodes[1:]:\n",
    "        sol = sol + [random.choice(list(set(nodes) - set({nodes[0]}) - set(sol)))]\n",
    "\n",
    "    return sol\n",
    "\n",
    "#Distancia entre dos nodos\n",
    "def distance(a,b, problem):\n",
    "    return problem.get_weight(a, b)\n",
    "\n",
    "#Distancia total de una trayectoria/solucion\n",
    "def total_distance(sol, problem):\n",
    "    dist = 0\n",
    "    for i in range(len(sol) - 1):\n",
    "        dist += distance(sol[i], sol[i + 1], problem)\n",
    "\n",
    "    return dist + distance(sol[len(sol) - 1], sol[0], problem)"
   ]
  },
  {
   "source": [
    "# Búsqueda aleatoria"
   ],
   "cell_type": "markdown",
   "metadata": {}
  },
  {
   "cell_type": "code",
   "execution_count": 4,
   "metadata": {},
   "outputs": [
    {
     "output_type": "stream",
     "name": "stdout",
     "text": [
      "Mejor solución: [0, 15, 16, 14, 19, 13, 25, 40, 38, 34, 11, 12, 22, 8, 39, 32, 31, 28, 5, 29, 41, 33, 20, 27, 1, 7, 18, 3, 30, 4, 21, 10, 9, 24, 23, 6, 17, 35, 37, 2, 26, 36]\nDistancia : 3591\n"
     ]
    }
   ],
   "source": [
    "def random_search(problem, n):\n",
    "    nodes = list(problem.get_nodes())\n",
    "\n",
    "    best_sol = []\n",
    "    best_dist = 10e100\n",
    "\n",
    "    for i in range(n):\n",
    "        sol = generate_solution(nodes)\n",
    "        dist = total_distance(sol, problem)\n",
    "\n",
    "        if dist < best_dist:\n",
    "            best_sol = sol\n",
    "            best_dist = dist\n",
    "    \n",
    "    return best_sol, best_dist\n",
    "\n",
    "sol, dist = random_search(problem, 50000)    \n",
    "\n",
    "print('Mejor solución: {}'.format(sol))\n",
    "print('Distancia : {}'.format(dist))\n",
    " "
   ]
  },
  {
   "cell_type": "code",
   "execution_count": 6,
   "metadata": {},
   "outputs": [
    {
     "output_type": "stream",
     "name": "stdout",
     "text": [
      "Distancia antigua Solucion: 3591\nDistancia nueva Solucion: 3376\n"
     ]
    }
   ],
   "source": [
    "def generate_neighbor(solution, problem):\n",
    "    #Generador de soluciones vecinas: 2-opt (intercambiar 2 nodos) Si hay N nodos se generan (N-1)x(N-2)/2 soluciones\n",
    "\n",
    "    best_sol = []\n",
    "    best_dist = 10e100\n",
    "\n",
    "    for i in range(1, len(sol) - 1): #Recorremos todos los nodos en bucle doble para evaluar todos los intercambios 2-opt\n",
    "        for j in range(i + 1, len(sol)): #i+1 por la simetríA\n",
    "      \n",
    "            # Generar una nueva solucion intercambaindo nodos\n",
    "            neighbor = solution[:i] + [solution[j]] + solution[i+1:j] + [solution[i]] + solution[j+1:]\n",
    "\n",
    "            n_dist = total_distance(neighbor, problem) #Evaluar la solucion\n",
    "\n",
    "            if n_dist <= best_dist:\n",
    "                best_dist = n_dist\n",
    "                best_sol = neighbor\n",
    "\n",
    "    return best_sol\n",
    "\n",
    "\n",
    "\n",
    "new_sol = generate_neighbor(sol, problem)\n",
    "\n",
    "print('Distancia antigua Solucion: {}'.format(total_distance(sol, problem)))\n",
    "print('Distancia nueva Solucion: {}'.format(total_distance(new_sol, problem)))"
   ]
  },
  {
   "source": [
    "# Búsqueda local"
   ],
   "cell_type": "markdown",
   "metadata": {}
  },
  {
   "cell_type": "code",
   "execution_count": 9,
   "metadata": {},
   "outputs": [
    {
     "output_type": "stream",
     "name": "stdout",
     "text": [
      "Iteracion: 40\nMejor solución: [0, 27, 39, 22, 38, 34, 32, 3, 26, 5, 7, 37, 17, 31, 36, 35, 33, 20, 1, 6, 14, 15, 16, 19, 13, 12, 11, 10, 29, 30, 28, 2, 4, 18, 25, 41, 40, 24, 21, 23, 9, 8]\nDistancia total: 1875\n"
     ]
    }
   ],
   "source": [
    "def local_search(problem, nodes):\n",
    "    best_sol = []\n",
    "    #Generar una solucion inicial de referencia(aleatoria)\n",
    "    sol_ref = generate_solution(nodes)\n",
    "    best_dist = total_distance(sol_ref, problem)\n",
    "\n",
    "    finish = False\n",
    "    iter = 0\n",
    "    while not finish:\n",
    "        iter += 1\n",
    "        neighbor = generate_neighbor(sol_ref, problem)\n",
    "        n_dist = total_distance(neighbor, problem)\n",
    "\n",
    "        if n_dist < best_dist:\n",
    "            best_sol = copy.deepcopy(neighbor)\n",
    "            best_dist = n_dist\n",
    "        else:\n",
    "            print('Iteracion: %d' % iter)\n",
    "            finish = True #Terminamos, significa que es un mínimo local\n",
    "        \n",
    "        sol_ref = neighbor\n",
    "\n",
    "    return best_sol, best_dist\n",
    "\n",
    "sol, dist = local_search(problem, nodes)\n",
    "print('Mejor solución: {}'.format(sol))\n",
    "print('Distancia total: {}'.format(dist))"
   ]
  },
  {
   "cell_type": "code",
   "execution_count": 10,
   "metadata": {},
   "outputs": [
    {
     "output_type": "stream",
     "name": "stdout",
     "text": [
      "[0, 27, 39, 22, 38, 34, 32, 3, 26, 5, 24, 37, 17, 31, 36, 35, 33, 20, 1, 6, 14, 15, 16, 19, 13, 12, 11, 10, 29, 30, 28, 2, 4, 18, 25, 41, 40, 7, 21, 23, 9, 8]\n"
     ]
    }
   ],
   "source": [
    "#Generador de 1 solucion vecina 2-opt aleatoria (intercambiar 2 nodos)\n",
    "def generate_random_neighbor(solution):\n",
    "    #Se eligen dos nodos aleatoriamente\n",
    "    i, j = sorted(random.sample( range(1, len(solution)), 2))\n",
    "\n",
    "    #Swap de nodos\n",
    "    return solution[:i] + [solution[j]] + solution[i+1:j] + [solution[i]] + solution[j+1:]\n",
    "  \n",
    " \n",
    "print(generate_random_neighbor(sol) )"
   ]
  },
  {
   "source": [
    "# Recocido simulado"
   ],
   "cell_type": "markdown",
   "metadata": {}
  },
  {
   "cell_type": "code",
   "execution_count": 12,
   "metadata": {},
   "outputs": [
    {
     "output_type": "stream",
     "name": "stdout",
     "text": [
      "Mejor solución: [0, 29, 39, 22, 40, 24, 21, 9, 1, 37, 36, 35, 20, 30, 38, 33, 34, 32, 28, 25, 12, 18, 11, 13, 19, 26, 6, 7, 17, 31, 2, 10, 8, 23, 41, 5, 16, 14, 15, 4, 3, 27]\nDistancia total: 2234\n"
     ]
    }
   ],
   "source": [
    "#Funcion de probabilidad para aceptar peores soluciones\n",
    "def probability(T, d):\n",
    "    return random.random() < math.exp(-1 * d / T)\n",
    "\n",
    "\n",
    "#Funcion de descenso de temperatura\n",
    "def lower_temp(T):\n",
    "    return T * 0.99\n",
    "\n",
    "    \n",
    "def simulated_annealing(problem, temp, nodes):\n",
    "    sol_ref = generate_solution(nodes)\n",
    "    dist_ref = total_distance(sol_ref, problem)\n",
    "  \n",
    "    best_sol = []\n",
    "    best_dist = 10e100\n",
    "  \n",
    "  \n",
    "    n = 0\n",
    "    while temp > 0.0001:\n",
    "        n += 1\n",
    "        #Genera una solución vecina\n",
    "        neighbor = generate_random_neighbor(sol_ref)\n",
    "    \n",
    "        #Calcula su valor(distancia)\n",
    "        n_dist = total_distance(neighbor, problem)\n",
    "      \n",
    "        #Si es la mejor solución de todas se guarda(siempre!!!)\n",
    "        if n_dist < best_dist:\n",
    "            best_sol = neighbor\n",
    "            best_dist = n_dist\n",
    "    \n",
    "        #Si la nueva vecina es mejor se cambia  \n",
    "        #Si es peor se cambia según una probabilidad que depende de T y delta(distancia_referencia - distancia_vecina)\n",
    "        if n_dist < dist_ref or probability(temp, abs(dist_ref - n_dist)):\n",
    "            sol_ref = copy.deepcopy(neighbor)\n",
    "            dist_ref = n_dist\n",
    "\n",
    "        #Baja temperatura\n",
    "        temp = lower_temp(temp)\n",
    "\n",
    "\n",
    "    return best_sol, best_dist\n",
    "\n",
    "sol, dist  = simulated_annealing(problem, 100000000000, nodes)\n",
    " \n",
    "print('Mejor solución: {}'.format(sol))\n",
    "print('Distancia total: {}'.format(dist))"
   ]
  }
 ]
}