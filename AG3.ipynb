{
 "metadata": {
  "language_info": {
   "codemirror_mode": {
    "name": "ipython",
    "version": 3
   },
   "file_extension": ".py",
   "mimetype": "text/x-python",
   "name": "python",
   "nbconvert_exporter": "python",
   "pygments_lexer": "ipython3",
   "version": "3.8.3-final"
  },
  "orig_nbformat": 2,
  "kernelspec": {
   "name": "python3",
   "display_name": "Python 3",
   "language": "python"
  }
 },
 "nbformat": 4,
 "nbformat_minor": 2,
 "cells": [
  {
   "source": [
    "# AG3 - Gonzalo Pérez Vizuete\n",
    "### [Github](https://github.com/comandantexd/03MAIR_Algoritmos_optimizacion/blob/master/AG3.ipynb)"
   ],
   "cell_type": "markdown",
   "metadata": {}
  },
  {
   "source": [
    "# Precarga, imports y variables"
   ],
   "cell_type": "markdown",
   "metadata": {}
  },
  {
   "cell_type": "code",
   "execution_count": 1,
   "metadata": {},
   "outputs": [],
   "source": [
    "import urllib\n",
    "import tsplib95\n",
    "import random\n",
    "import math\n",
    "import copy\n",
    "import numpy as np\n",
    "\n",
    "file = \"swiss42.tsp\" ; \n",
    "urllib.request.urlretrieve(\"http://elib.zib.de/pub/mp-testdata/tsp/tsplib/tsp/swiss42.tsp\", file) \n",
    "\n",
    "#Objeto problem\n",
    "problem = tsplib95.load(file)\n",
    "\n",
    "#Nodos\n",
    "nodes = list(problem.get_nodes())\n",
    "\n",
    "#Aristas\n",
    "edges = list(problem.get_edges())"
   ]
  },
  {
   "source": [
    "# Utilidades"
   ],
   "cell_type": "markdown",
   "metadata": {}
  },
  {
   "cell_type": "code",
   "execution_count": 2,
   "metadata": {},
   "outputs": [],
   "source": [
    "#Genera una colucion aleatoria con comienzo en el nodo 0\n",
    "def generate_solution(nodes): \n",
    "    sol = [nodes[0]]\n",
    "    for n in nodes[1:]:\n",
    "        sol = sol + [random.choice(list(set(nodes) - set({nodes[0]}) - set(sol)))]\n",
    "\n",
    "    return sol\n",
    "\n",
    "#Distancia entre dos nodos\n",
    "def distance(a,b, problem):\n",
    "    return problem.get_weight(a, b)\n",
    "\n",
    "#Distancia total de una trayectoria/solucion\n",
    "def total_distance(sol, problem):\n",
    "    dist = 0\n",
    "    for i in range(len(sol) - 1):\n",
    "        dist += distance(sol[i], sol[i + 1], problem)\n",
    "\n",
    "    return dist + distance(sol[len(sol) - 1], sol[0], problem)"
   ]
  },
  {
   "source": [
    "# Búsqueda aleatoria"
   ],
   "cell_type": "markdown",
   "metadata": {}
  },
  {
   "cell_type": "code",
   "execution_count": 89,
   "metadata": {},
   "outputs": [
    {
     "output_type": "stream",
     "name": "stdout",
     "text": [
      "Mejor solución: [0, 11, 41, 23, 29, 10, 4, 13, 6, 17, 37, 25, 40, 21, 24, 30, 38, 28, 15, 12, 7, 31, 32, 20, 5, 18, 34, 16, 19, 14, 1, 2, 22, 3, 33, 36, 35, 26, 39, 9, 8, 27]\nDistancia : 3471\n"
     ]
    }
   ],
   "source": [
    "def random_search(problem, n):\n",
    "    nodes = list(problem.get_nodes())\n",
    "\n",
    "    best_sol = []\n",
    "    best_dist = 10e100\n",
    "\n",
    "    for i in range(n):\n",
    "        sol = generate_solution(nodes)\n",
    "        dist = total_distance(sol, problem)\n",
    "\n",
    "        if dist < best_dist:\n",
    "            best_sol = sol\n",
    "            best_dist = dist\n",
    "    \n",
    "    return best_sol, best_dist\n",
    "\n",
    "sol, dist = random_search(problem, 50000)    \n",
    "\n",
    "print('Mejor solución: {}'.format(sol))\n",
    "print('Distancia : {}'.format(dist))\n",
    " "
   ]
  },
  {
   "cell_type": "code",
   "execution_count": 90,
   "metadata": {},
   "outputs": [
    {
     "output_type": "stream",
     "name": "stdout",
     "text": [
      "Distancia antigua Solucion: 3471\nDistancia nueva Solucion: 3195\n"
     ]
    }
   ],
   "source": [
    "def generate_neighbor(solution, problem):\n",
    "    #Generador de soluciones vecinas: 2-opt (intercambiar 2 nodos) Si hay N nodos se generan (N-1)x(N-2)/2 soluciones\n",
    "\n",
    "    best_sol = []\n",
    "    best_dist = 10e100\n",
    "\n",
    "    for i in range(1, len(sol) - 1): #Recorremos todos los nodos en bucle doble para evaluar todos los intercambios 2-opt\n",
    "        for j in range(i + 1, len(sol)): #i+1 por la simetríA\n",
    "      \n",
    "            # Generar una nueva solucion intercambaindo nodos\n",
    "            neighbor = solution[:i] + [solution[j]] + solution[i+1:j] + [solution[i]] + solution[j+1:]\n",
    "\n",
    "            n_dist = total_distance(neighbor, problem) #Evaluar la solucion\n",
    "\n",
    "            if n_dist <= best_dist:\n",
    "                best_dist = n_dist\n",
    "                best_sol = neighbor\n",
    "\n",
    "    return best_sol\n",
    "\n",
    "\n",
    "\n",
    "new_sol = generate_neighbor(sol, problem)\n",
    "\n",
    "print('Distancia antigua Solucion: {}'.format(total_distance(sol, problem)))\n",
    "print('Distancia nueva Solucion: {}'.format(total_distance(new_sol, problem)))"
   ]
  },
  {
   "source": [
    "# Búsqueda local"
   ],
   "cell_type": "markdown",
   "metadata": {}
  },
  {
   "cell_type": "code",
   "execution_count": 91,
   "metadata": {},
   "outputs": [
    {
     "output_type": "stream",
     "name": "stdout",
     "text": [
      "Iteracion: 47\nMejor solución: [0, 20, 33, 34, 38, 22, 23, 41, 10, 25, 11, 12, 13, 19, 14, 16, 15, 6, 4, 2, 27, 3, 1, 7, 17, 31, 28, 30, 32, 35, 36, 37, 5, 26, 18, 8, 9, 21, 40, 24, 39, 29]\nDistancia total: 1812\n"
     ]
    }
   ],
   "source": [
    "def local_search(problem, nodes):\n",
    "    best_sol = []\n",
    "    #Generar una solucion inicial de referencia(aleatoria)\n",
    "    sol_ref = generate_solution(nodes)\n",
    "    best_dist = total_distance(sol_ref, problem)\n",
    "\n",
    "    finish = False\n",
    "    iter = 0\n",
    "    while not finish:\n",
    "        iter += 1\n",
    "        neighbor = generate_neighbor(sol_ref, problem)\n",
    "        n_dist = total_distance(neighbor, problem)\n",
    "\n",
    "        if n_dist < best_dist:\n",
    "            best_sol = copy.deepcopy(neighbor)\n",
    "            best_dist = n_dist\n",
    "        else:\n",
    "            print('Iteracion: %d' % iter)\n",
    "            finish = True #Terminamos, significa que es un mínimo local\n",
    "        \n",
    "        sol_ref = neighbor\n",
    "\n",
    "    return best_sol, best_dist\n",
    "\n",
    "sol, dist = local_search(problem, nodes)\n",
    "print('Mejor solución: {}'.format(sol))\n",
    "print('Distancia total: {}'.format(dist))"
   ]
  },
  {
   "cell_type": "code",
   "execution_count": 93,
   "metadata": {},
   "outputs": [
    {
     "output_type": "stream",
     "name": "stdout",
     "text": [
      "[0, 20, 33, 34, 38, 22, 23, 41, 10, 25, 11, 12, 13, 19, 14, 16, 3, 6, 4, 2, 27, 15, 1, 7, 17, 31, 28, 30, 32, 35, 36, 37, 5, 26, 18, 8, 9, 21, 40, 24, 39, 29]\n"
     ]
    }
   ],
   "source": [
    "#Generador de 1 solucion vecina 2-opt aleatoria (intercambiar 2 nodos)\n",
    "def generate_random_neighbor(solution):\n",
    "    #Se eligen dos nodos aleatoriamente\n",
    "    i, j = sorted(random.sample( range(1, len(solution)), 2))\n",
    "\n",
    "    #Swap de nodos\n",
    "    return solution[:i] + [solution[j]] + solution[i+1:j] + [solution[i]] + solution[j+1:]\n",
    "  \n",
    " \n",
    "print(generate_random_neighbor(sol) )"
   ]
  },
  {
   "source": [
    "# Recocido simulado"
   ],
   "cell_type": "markdown",
   "metadata": {}
  },
  {
   "cell_type": "code",
   "execution_count": 94,
   "metadata": {},
   "outputs": [
    {
     "output_type": "stream",
     "name": "stdout",
     "text": [
      "Mejor solución: [0, 5, 26, 6, 41, 40, 24, 21, 9, 23, 29, 28, 1, 16, 15, 14, 19, 13, 7, 20, 33, 34, 32, 27, 2, 3, 17, 31, 35, 36, 37, 18, 10, 8, 25, 11, 12, 4, 30, 39, 22, 38]\nDistancia total: 2073\n"
     ]
    }
   ],
   "source": [
    "#Funcion de probabilidad para aceptar peores soluciones\n",
    "def probability(T, d):\n",
    "    return random.random() < math.exp(-1 * d / T)\n",
    "\n",
    "\n",
    "#Funcion de descenso de temperatura\n",
    "def lower_temp(T):\n",
    "    return T * 0.99\n",
    "\n",
    "    \n",
    "def simulated_annealing(problem, temp, nodes):\n",
    "    sol_ref = generate_solution(nodes)\n",
    "    dist_ref = total_distance(sol_ref, problem)\n",
    "  \n",
    "    best_sol = []\n",
    "    best_dist = 10e100\n",
    "  \n",
    "  \n",
    "    n = 0\n",
    "    while temp > 0.0001:\n",
    "        n += 1\n",
    "        #Genera una solución vecina\n",
    "        neighbor = generate_random_neighbor(sol_ref)\n",
    "    \n",
    "        #Calcula su valor(distancia)\n",
    "        n_dist = total_distance(neighbor, problem)\n",
    "      \n",
    "        #Si es la mejor solución de todas se guarda(siempre!!!)\n",
    "        if n_dist < best_dist:\n",
    "            best_sol = neighbor\n",
    "            best_dist = n_dist\n",
    "    \n",
    "        #Si la nueva vecina es mejor se cambia  \n",
    "        #Si es peor se cambia según una probabilidad que depende de T y delta(distancia_referencia - distancia_vecina)\n",
    "        if n_dist < dist_ref or probability(temp, abs(dist_ref - n_dist)):\n",
    "            sol_ref = copy.deepcopy(neighbor)\n",
    "            dist_ref = n_dist\n",
    "\n",
    "        #Baja temperatura\n",
    "        temp = lower_temp(temp)\n",
    "\n",
    "\n",
    "    return best_sol, best_dist\n",
    "\n",
    "sol, dist  = simulated_annealing(problem, 100000000000, nodes)\n",
    " \n",
    "print('Mejor solución: {}'.format(sol))\n",
    "print('Distancia total: {}'.format(dist))"
   ]
  },
  {
   "source": [
    "# Colonia de hormigas"
   ],
   "cell_type": "markdown",
   "metadata": {}
  },
  {
   "cell_type": "code",
   "execution_count": 78,
   "metadata": {
    "tags": []
   },
   "outputs": [
    {
     "output_type": "stream",
     "name": "stdout",
     "text": [
      "\n",
      "iteraciones: 50\n",
      "Mejor solución: [1, 27, 3, 28, 8, 5, 20, 7, 16, 9, 22, 18, 10, 11, 15, 4, 6, 13, 12, 38, 34, 21, 26, 39, 23, 40, 30, 19, 41, 29, 14, 31, 24, 33, 32, 37, 36, 17, 25, 2, 0, 0]\n",
      "Distancia total: 4011\n",
      "\n",
      "iteraciones: 10000\n",
      "Mejor solución: [0, 12, 9, 2, 26, 4, 6, 7, 33, 36, 37, 31, 27, 13, 16, 15, 8, 41, 23, 19, 32, 38, 22, 40, 24, 35, 34, 17, 14, 29, 30, 18, 3, 39, 28, 11, 5, 25, 10, 0, 1, 0]\n",
      "Distancia total: 3325\n"
     ]
    }
   ],
   "source": [
    "l = len(nodes)\n",
    "\n",
    "def select_node(pheromones, current_road, node, problem):\n",
    "    not_index = [v for v in current_road if v != 0]\n",
    "\n",
    "    # Influencia de cada valor (alfa: feromonas; beta: valor)\n",
    "    alfa = 1.0\n",
    "    beta = 0.5\n",
    "\n",
    "    # Probabilidad que tiene un nodo en ser seleccionado\n",
    "    _p = []\n",
    "    for i, v in enumerate(pheromones[node]):\n",
    "        p = math.pow(v, alfa)\n",
    "        ww = problem.get_weight(node, i)\n",
    "        w = math.pow(1 / problem.get_weight(node, i), beta) if ww != 0 else 1\n",
    "        _p.append(w if i not in not_index else 0)\n",
    "    \n",
    "    _s = sum(_p)\n",
    "    _p = list(map(lambda x: x / _s, _p))\n",
    "    _s = sum(_p)\n",
    "\n",
    "    #Se selecciona un nodo probabilísticamente\n",
    "    v = random.random() * _s\n",
    "    acum = 0\n",
    "    i = -1\n",
    "    while v > acum:\n",
    "        i += 1\n",
    "        acum += _p[i]\n",
    "\n",
    "    return i\n",
    "\n",
    "\n",
    "def select_road(problem, pheromones):\n",
    "    road = [0]*l\n",
    "    for i in range(l):\n",
    "        road[i] = select_node(pheromones, road, i, problem)\n",
    "\n",
    "    return road\n",
    "\n",
    "\n",
    "def update_pheromones(pheromones, problem, road):\n",
    "    for i, p_list in enumerate(pheromones):\n",
    "        n = road[i]\n",
    "        s = p_list[n] if p_list[n] != 0 else 1\n",
    "        p_list[n] += (1 - 0.9) * s #Se deposita la feromona donde ha pasado la hormiga\n",
    "\n",
    "\n",
    "def ACO_metaheuristic(problem, nodes, iter):\n",
    "    pheromones = []\n",
    "    for i in range(l):\n",
    "        pheromones.append([0]*l) # Inicializa array de feromonas\n",
    "\n",
    "\n",
    "    t_dist = 10e100\n",
    "    best_road = []\n",
    "\n",
    "    i = 0\n",
    "    while i < iter: #iteraciones\n",
    "        road = select_road(problem, pheromones) #Seleccion de camino\n",
    "        dist = total_distance(road, problem) # Calcula distancia\n",
    "        update_pheromones(pheromones, problem, road) # actualiza feromonas\n",
    "\n",
    "        if dist < t_dist:\n",
    "            t_dist = dist\n",
    "            best_road = road\n",
    "\n",
    "        i += 1\n",
    "\n",
    "    return t_dist, best_road\n",
    "\n",
    "\n",
    "dist, sol = ACO_metaheuristic(problem, nodes, 50)\n",
    "print('\\niteraciones: 50')\n",
    "print('Mejor solución: {}'.format(sol))\n",
    "print('Distancia total: {}'.format(dist))\n",
    "\n",
    "dist, sol = ACO_metaheuristic(problem, nodes, 10000)\n",
    "print('\\niteraciones: 10000')\n",
    "print('Mejor solución: {}'.format(sol))\n",
    "print('Distancia total: {}'.format(dist))"
   ]
  }
 ]
}